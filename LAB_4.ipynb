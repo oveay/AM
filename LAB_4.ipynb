{
  "nbformat": 4,
  "nbformat_minor": 0,
  "metadata": {
    "colab": {
      "provenance": [],
      "include_colab_link": true
    },
    "kernelspec": {
      "name": "python3",
      "display_name": "Python 3"
    },
    "language_info": {
      "name": "python"
    }
  },
  "cells": [
    {
      "cell_type": "markdown",
      "metadata": {
        "id": "view-in-github",
        "colab_type": "text"
      },
      "source": [
        "<a href=\"https://colab.research.google.com/github/oveay/AM/blob/main/LAB_4.ipynb\" target=\"_parent\"><img src=\"https://colab.research.google.com/assets/colab-badge.svg\" alt=\"Open In Colab\"/></a>"
      ]
    },
    {
      "cell_type": "markdown",
      "source": [
        "### Ведерников Ярослав, Соров Айаал, Хауров Никита. Группа М32011. Лабораторная работа №4"
      ],
      "metadata": {
        "id": "2u44nQQEKK2g"
      }
    },
    {
      "cell_type": "markdown",
      "source": [
        "###1. Реализовать метод Гаусса с выбором ведущего элемента для решения СЛАУ"
      ],
      "metadata": {
        "id": "J1s83xcw7o7A"
      }
    },
    {
      "cell_type": "code",
      "source": [
        "import numpy as np\n",
        "\n",
        "def gaussian_elimination(matrix, vector):\n",
        "    n = len(matrix)\n",
        "\n",
        "    # Прямой ход\n",
        "    for i in range(n):\n",
        "        # Выбор ведущего элемента\n",
        "        max_index = i\n",
        "        for j in range(i+1, n):\n",
        "            if abs(matrix[j][i]) > abs(matrix[max_index][i]):\n",
        "                max_index = j\n",
        "        matrix[[i, max_index]] = matrix[[max_index, i]]\n",
        "        vector[[i, max_index]] = vector[[max_index, i]]\n",
        "\n",
        "        # Приведение матрицы к треугольному виду\n",
        "        for j in range(i+1, n):\n",
        "            factor = matrix[j][i] / matrix[i][i]\n",
        "            matrix[j] -= factor * matrix[i]\n",
        "            vector[j] -= factor * vector[i]\n",
        "\n",
        "    # Обратный ход\n",
        "    solution = np.zeros(n)\n",
        "    for i in range(n-1, -1, -1):\n",
        "        solution[i] = (vector[i] - np.dot(matrix[i][i+1:], solution[i+1:])) / matrix[i][i]\n",
        "\n",
        "    return solution\n",
        "\n",
        "# Пример использования\n",
        "matrix = np.array([[2, 3, -1],\n",
        "                   [4, 4, -3],\n",
        "                   [2, -3, 1]], dtype=float)\n",
        "\n",
        "vector = np.array([5, 3, -1], dtype=float)\n",
        "\n",
        "result = gaussian_elimination(matrix, vector)\n",
        "print(result)\n"
      ],
      "metadata": {
        "colab": {
          "base_uri": "https://localhost:8080/"
        },
        "id": "zCglQRmx7PKq",
        "outputId": "127031d9-62ff-4d2d-b795-93a826a8971d"
      },
      "execution_count": null,
      "outputs": [
        {
          "output_type": "stream",
          "name": "stdout",
          "text": [
            "[1. 2. 3.]\n"
          ]
        }
      ]
    },
    {
      "cell_type": "markdown",
      "source": [
        "###2. Реализовать алгоритм LU-разложения с использованием разреженно-строчного (разреженно-столбцового) формата хранения матрицы, а также метод решения СЛАУ с использованием LU-разложения."
      ],
      "metadata": {
        "id": "qBJIUqiP8XkL"
      }
    },
    {
      "cell_type": "code",
      "source": [
        "import numpy as np\n",
        "from scipy.sparse import lil_matrix, csr_matrix\n",
        "from scipy.sparse.linalg import spsolve\n",
        "\n",
        "def lu_decomposition_sparse(A):\n",
        "    n = A.shape[0]\n",
        "    L = lil_matrix((n, n), dtype=float)\n",
        "    U = lil_matrix((n, n), dtype=float)\n",
        "\n",
        "    for k in range(n):\n",
        "        L[k, k] = 1.0\n",
        "        U[k, k] = A[k, k] - L[k, :k].dot(U[:k, k].toarray().flatten())\n",
        "\n",
        "        for j in range(k+1, n):\n",
        "            U[k, j] = A[k, j] - L[k, :k].dot(U[:k, j].toarray().flatten())\n",
        "\n",
        "        for i in range(k+1, n):\n",
        "            L[i, k] = (A[i, k] - L[i, :k].dot(U[:k, k].toarray().flatten())) / U[k, k]\n",
        "\n",
        "    return csr_matrix(L), csr_matrix(U)\n",
        "\n",
        "# Пример использования\n",
        "A = np.array([[2, 3, -1],\n",
        "            [4, 4, -3],\n",
        "            [2, -3, 1]])\n",
        "\n",
        "# Создание разреженной матрицы в формате LIL\n",
        "A_sparse = lil_matrix(A)\n",
        "\n",
        "L, U = lu_decomposition_sparse(A_sparse)\n",
        "\n",
        "print(\"L:\")\n",
        "print(L.toarray())\n",
        "print(\"U:\")\n",
        "print(U.toarray())\n",
        "\n",
        "# Решение СЛАУ с использованием LU-разложения\n",
        "b = np.array([1, 0, -1])\n",
        "\n",
        "# Решение СЛАУ\n",
        "y = spsolve(L, b)\n",
        "x = spsolve(U, y)\n",
        "\n",
        "print(\"Solution:\")\n",
        "print(x)\n"
      ],
      "metadata": {
        "colab": {
          "base_uri": "https://localhost:8080/"
        },
        "id": "8K2dlvX28iWs",
        "outputId": "e2a07f20-cc1b-48ac-def0-eec65619ded0"
      },
      "execution_count": null,
      "outputs": [
        {
          "output_type": "stream",
          "name": "stdout",
          "text": [
            "L:\n",
            "[[1. 0. 0.]\n",
            " [2. 1. 0.]\n",
            " [1. 3. 1.]]\n",
            "U:\n",
            "[[ 2.  3. -1.]\n",
            " [ 0. -2. -1.]\n",
            " [ 0.  0.  5.]]\n",
            "Solution:\n",
            "[0.  0.6 0.8]\n"
          ]
        }
      ]
    },
    {
      "cell_type": "markdown",
      "source": [
        "###3. Реализовать итерационный метод решения СЛАУ (метол Зейделя, Якоби или верхней релаксации на выбор)."
      ],
      "metadata": {
        "id": "Ce3tRS5g-fhS"
      }
    },
    {
      "cell_type": "code",
      "source": [
        "import numpy as np\n",
        "\n",
        "def jacobi_method(A, b, x0, max_iterations=100, tolerance=1e-6):\n",
        "    n = len(A)\n",
        "    x = np.copy(x0)\n",
        "    x_new = np.zeros_like(x)\n",
        "    residual = np.zeros(max_iterations)\n",
        "\n",
        "    for iteration in range(max_iterations):\n",
        "        for i in range(n):\n",
        "            sum_term = 0.0\n",
        "            for j in range(n):\n",
        "                if j != i:\n",
        "                    sum_term += A[i, j] * x[j]\n",
        "            x_new[i] = (b[i] - sum_term) / A[i, i]\n",
        "\n",
        "        residual[iteration] = np.linalg.norm(b - np.dot(A, x_new))\n",
        "\n",
        "        if np.linalg.norm(x - x_new) < tolerance:\n",
        "            break\n",
        "\n",
        "        x = np.copy(x_new)\n",
        "\n",
        "    return x, iteration + 1, residual[:iteration+1]\n",
        "\n",
        "# Пример использования\n",
        "A = np.array([[4, -1, 0], [-1, 4, -1], [0, -1, 4]])\n",
        "b = np.array([1, 4, 2])\n",
        "x0 = np.zeros_like(b)\n",
        "\n",
        "solution, iterations, residual = jacobi_method(A, b, x0)\n",
        "print(\"Решение:\", solution)\n",
        "print(\"Количество итераций:\", iterations)\n",
        "print(\"Остатки:\", residual)\n"
      ],
      "metadata": {
        "colab": {
          "base_uri": "https://localhost:8080/"
        },
        "id": "ahPF-7h5_LeL",
        "outputId": "e4f7fc69-49a6-405a-db1f-0c6315afb0c4"
      },
      "execution_count": null,
      "outputs": [
        {
          "output_type": "stream",
          "name": "stdout",
          "text": [
            "Решение: [0 1 0]\n",
            "Количество итераций: 2\n",
            "Остатки: [3.60555128 3.60555128]\n"
          ]
        }
      ]
    },
    {
      "cell_type": "markdown",
      "source": [
        "###4. Провести исследование реализованных методов на системах с матрицами A^(k) число обусловленности которых регулируется за счет изменения диагонального преобладания. Внедиагональные элементы матрицы A^(k) выбираются случайным образом из множества"
      ],
      "metadata": {
        "id": "jBX33fv-Fdr6"
      }
    },
    {
      "cell_type": "code",
      "source": [
        "import numpy as np\n",
        "\n",
        "def gaussian_elimination(matrix, vector):\n",
        "    n = len(matrix)\n",
        "\n",
        "    for i in range(n):\n",
        "        max_index = i\n",
        "        for j in range(i+1, n):\n",
        "            if abs(matrix[j][i]) > abs(matrix[max_index][i]):\n",
        "                max_index = j\n",
        "        matrix[[i, max_index]] = matrix[[max_index, i]]\n",
        "        vector[[i, max_index]] = vector[[max_index, i]]\n",
        "\n",
        "        for j in range(i+1, n):\n",
        "            factor = matrix[j][i] / matrix[i][i]\n",
        "            matrix[j] -= factor * matrix[i]\n",
        "            vector[j] -= factor * vector[i]\n",
        "\n",
        "    solution = np.zeros(n)\n",
        "    for i in range(n-1, -1, -1):\n",
        "        solution[i] = (vector[i] - np.dot(matrix[i][i+1:], solution[i+1:])) / matrix[i][i]\n",
        "\n",
        "    return solution\n",
        "\n",
        "def lu_decomposition(A):\n",
        "    n = A.shape[0]\n",
        "    L = np.eye(n)\n",
        "    U = np.zeros((n, n))\n",
        "\n",
        "    if np.linalg.det(A) == 0:\n",
        "        raise ValueError('Матрица является вырожденной')\n",
        "\n",
        "    for k in range(n):\n",
        "        U[k, k:] = A[k, k:] - L[k, :k].dot(U[:k, k:])\n",
        "        L[k+1:, k] = (A[k+1:, k] - L[k+1:, :k].dot(U[:k, k])) / U[k, k]\n",
        "\n",
        "    return L, U\n",
        "\n",
        "def jacobi_method(A, b, x0, max_iterations=100, tolerance=1e-6):\n",
        "    n = len(A)\n",
        "    x = np.copy(x0)\n",
        "    x_new = np.zeros_like(x)\n",
        "    residual = np.zeros(max_iterations)\n",
        "\n",
        "    for iteration in range(max_iterations):\n",
        "        for i in range(n):\n",
        "            sum_term = 0.0\n",
        "            for j in range(n):\n",
        "                if j != i:\n",
        "                    sum_term += A[i, j] * x[j]\n",
        "            x_new[i] = (b[i] - sum_term) / A[i, i]\n",
        "\n",
        "        residual[iteration] = np.linalg.norm(b - np.dot(A, x_new))\n",
        "\n",
        "        if np.linalg.norm(x - x_new) < tolerance:\n",
        "            break\n",
        "\n",
        "        x = np.copy(x_new)\n",
        "\n",
        "    return x, iteration + 1, residual[:iteration+1]\n",
        "\n",
        "def solve_linear_system(A, F, method):\n",
        "    if method == 'Gaussian':\n",
        "        return gaussian_elimination(A, F)\n",
        "    elif method == 'LU':\n",
        "        try:\n",
        "            L, U = lu_decomposition(A)\n",
        "            y = np.linalg.solve(L, F)\n",
        "            x = np.linalg.solve(U, y)\n",
        "            return x\n",
        "        except np.linalg.LinAlgError:\n",
        "            return gaussian_elimination(A, F)\n",
        "    elif method == 'Jacobi':\n",
        "        x0 = np.zeros_like(F)\n",
        "        return jacobi_method(A, F, x0)[0]\n",
        "    else:\n",
        "        raise ValueError('Неподдерживаемый метод')\n",
        "\n",
        "# Создание матрицы A^k\n",
        "def create_matrix(k, n):\n",
        "    A = np.zeros((n, n))\n",
        "    for i in range(n):\n",
        "        for j in range(n):\n",
        "            if i == 0:\n",
        "                A[i, j] = -1 * A[i+1, j] + 10**(-k)\n",
        "            else:\n",
        "                A[i, j] = np.random.choice([-4, -3, -2, -1, 0])\n",
        "\n",
        "    return A\n",
        "\n",
        "# Создание вектора F^k\n",
        "def create_vector(n):\n",
        "    return np.arange(1, n+1)\n",
        "\n",
        "# Параметры исследования\n",
        "k_values = [1, 2, 3]\n",
        "n = 3\n",
        "\n",
        "# Исследование для каждого значения k\n",
        "for k in k_values:\n",
        "    print(f\"Исследование для k={k}\")\n",
        "    A = create_matrix(k, n)\n",
        "    F = create_vector(n)\n",
        "\n",
        "    # Точное решение\n",
        "    exact_solution = np.linalg.solve(A, F)\n",
        "    print(\"Точное решение:\")\n",
        "    print(exact_solution)\n",
        "\n",
        "    # Решение с использованием метода Гаусса с выбором ведущего элемента\n",
        "    gaussian_solution = solve_linear_system(A, F, 'Gaussian')\n",
        "    print(\"Решение с помощью метода Гаусса с выбором ведущего элемента:\")\n",
        "    print(gaussian_solution)\n",
        "\n",
        "    # Решение с использованием LU-разложения\n",
        "    lu_solution = solve_linear_system(A, F, 'LU')\n",
        "    print(\"Решение с помощью LU-разложения:\")\n",
        "    print(lu_solution)\n",
        "\n",
        "    # Решение с использованием метода Якоби\n",
        "    jacobi_solution = solve_linear_system(A, F, 'Jacobi')\n",
        "    print(\"Решение с помощью метода Якоби:\")\n",
        "    print(jacobi_solution)\n",
        "\n",
        "    # Вычисление ошибок и остатков\n",
        "    gaussian_error = np.linalg.norm(exact_solution - gaussian_solution)\n",
        "    lu_error = np.linalg.norm(exact_solution - lu_solution)\n",
        "    jacobi_error = np.linalg.norm(exact_solution - jacobi_solution)\n",
        "\n",
        "    gaussian_residual = np.linalg.norm(np.dot(A, gaussian_solution) - F)\n",
        "    lu_residual = np.linalg.norm(np.dot(A, lu_solution) - F)\n",
        "    jacobi_residual = np.linalg.norm(np.dot(A, jacobi_solution) - F)\n",
        "\n",
        "    print(\"Ошибки:\")\n",
        "    print(f\"Метод Гаусса с выбором ведущего элемента: {gaussian_error}\")\n",
        "    print(f\"LU-разложение: {lu_error}\")\n",
        "    print(f\"Метод Якоби: {jacobi_error}\")\n",
        "\n",
        "    print(\"Остатки:\")\n",
        "    print(f\"Метод Гаусса с выбором ведущего элемента: {gaussian_residual}\")\n",
        "    print(f\"LU-разложение: {lu_residual}\")\n",
        "    print(f\"Метод Якоби: {jacobi_residual}\")\n",
        "\n",
        "    print(\"-----------------------------\")\n"
      ],
      "metadata": {
        "colab": {
          "base_uri": "https://localhost:8080/"
        },
        "id": "8D9NvNHHFJI3",
        "outputId": "a5a3f930-89e9-496e-e033-e77579620c83"
      },
      "execution_count": null,
      "outputs": [
        {
          "output_type": "stream",
          "name": "stdout",
          "text": [
            "Исследование для k=1\n",
            "Точное решение:\n",
            "[ 10.66666667 -17.5         16.83333333]\n",
            "Решение с помощью метода Гаусса с выбором ведущего элемента:\n",
            "[  9.44444444 -15.66666667  15.        ]\n",
            "Решение с помощью LU-разложения:\n",
            "[  9.44444444 -15.66666667  15.        ]\n",
            "Решение с помощью метода Якоби:\n",
            "[  9 -15  15]\n",
            "Ошибки:\n",
            "Метод Гаусса с выбором ведущего элемента: 2.866365186558762\n",
            "LU-разложение: 2.866365186558762\n",
            "Метод Якоби: 3.5197853469904783\n",
            "Остатки:\n",
            "Метод Гаусса с выбором ведущего элемента: 1.7763568394002505e-15\n",
            "LU-разложение: 1.7763568394002505e-15\n",
            "Метод Якоби: 2.0\n",
            "-----------------------------\n",
            "Исследование для k=2\n",
            "Точное решение:\n",
            "[-16.66666667 151.         -34.33333333]\n",
            "Решение с помощью метода Гаусса с выбором ведущего элемента:\n",
            "[-16.33333333 147.         -33.33333333]\n",
            "Решение с помощью LU-разложения:\n",
            "[-16.33333333 147.         -33.33333333]\n",
            "Решение с помощью метода Якоби:\n",
            "[-16 145 -33]\n",
            "Ошибки:\n",
            "Метод Гаусса с выбором ведущего элемента: 4.1365578819970095\n",
            "LU-разложение: 4.1365578819970095\n",
            "Метод Якоби: 6.182412330330498\n",
            "Остатки:\n",
            "Метод Гаусса с выбором ведущего элемента: 2.2469608481081543e-14\n",
            "LU-разложение: 2.2469608481081543e-14\n",
            "Метод Якоби: 0.3334832995985076\n",
            "-----------------------------\n",
            "Исследование для k=3\n",
            "Точное решение:\n",
            "[-3.002e+03 -1.000e+00  4.003e+03]\n",
            "Решение с помощью метода Гаусса с выбором ведущего элемента:\n",
            "[-2.99975e+03 -1.00000e+00  4.00000e+03]\n",
            "Решение с помощью LU-разложения:\n",
            "[-2.99975e+03 -1.00000e+00  4.00000e+03]\n",
            "Решение с помощью метода Якоби:\n",
            "[-2999    -1  4000]\n",
            "Ошибки:\n",
            "Метод Гаусса с выбором ведущего элемента: 3.75\n",
            "LU-разложение: 3.75\n",
            "Метод Якоби: 4.242640687119285\n",
            "Остатки:\n",
            "Метод Гаусса с выбором ведущего элемента: 0.0\n",
            "LU-разложение: 0.0\n",
            "Метод Якоби: 3.0\n",
            "-----------------------------\n"
          ]
        }
      ]
    },
    {
      "cell_type": "markdown",
      "source": [
        "###5. Оценить зависимость числа обусловленности и точности полученного решения в зависимости от параметра k."
      ],
      "metadata": {
        "id": "I0P-tb7nFr9n"
      }
    },
    {
      "cell_type": "code",
      "source": [
        "import numpy as np\n",
        "\n",
        "def create_matrix(k, n):\n",
        "    A = np.zeros((n, n))\n",
        "    for i in range(n):\n",
        "        for j in range(n):\n",
        "            if i == 0:\n",
        "                A[i, j] = -1 * A[i+1, j] + 10**(-k)\n",
        "            else:\n",
        "                A[i, j] = np.random.choice([-4, -3, -2, -1, 0])\n",
        "\n",
        "    return A\n",
        "\n",
        "def create_vector(n):\n",
        "    return np.arange(1, n+1)\n",
        "\n",
        "def compute_condition_number(A):\n",
        "    return np.linalg.cond(A)\n",
        "\n",
        "def compute_solution_error(exact_solution, approximate_solution):\n",
        "    return np.linalg.norm(exact_solution - approximate_solution)\n",
        "\n",
        "# Параметры исследования\n",
        "k_values = [1, 2, 3, 4, 5]\n",
        "n = 3\n",
        "\n",
        "# Исследование для каждого значения k\n",
        "for k in k_values:\n",
        "    print(f\"Исследование для k={k}\")\n",
        "    A = create_matrix(k, n)\n",
        "    F = create_vector(n)\n",
        "\n",
        "    # Точное решение\n",
        "    exact_solution = np.linalg.solve(A, F)\n",
        "\n",
        "    # Решение с использованием метода Гаусса с выбором ведущего элемента\n",
        "    gaussian_solution = gaussian_elimination(A, F)\n",
        "\n",
        "    # Решение с использованием LU-разложения\n",
        "    try:\n",
        "        L, U = lu_decomposition(A)\n",
        "        y = np.linalg.solve(L, F)\n",
        "        lu_solution = np.linalg.solve(U, y)\n",
        "    except np.linalg.LinAlgError:\n",
        "        lu_solution = gaussian_solution\n",
        "\n",
        "    # Решение с использованием метода Якоби\n",
        "    x0 = np.zeros_like(F)\n",
        "    jacobi_solution, _, _ = jacobi_method(A, F, x0)\n",
        "\n",
        "    # Вычисление числа обусловленности\n",
        "    condition_number = compute_condition_number(A)\n",
        "\n",
        "    # Вычисление ошибок\n",
        "    gaussian_error = compute_solution_error(exact_solution, gaussian_solution)\n",
        "    lu_error = compute_solution_error(exact_solution, lu_solution)\n",
        "    jacobi_error = compute_solution_error(exact_solution, jacobi_solution)\n",
        "\n",
        "    print(\"Число обусловленности:\", condition_number)\n",
        "    print(\"Ошибки:\")\n",
        "    print(f\"Метод Гаусса с выбором ведущего элемента: {gaussian_error}\")\n",
        "    print(f\"LU-разложение: {lu_error}\")\n",
        "    print(f\"Метод Якоби: {jacobi_error}\")\n",
        "\n",
        "    print(\"-----------------------------\")\n"
      ],
      "metadata": {
        "colab": {
          "base_uri": "https://localhost:8080/"
        },
        "id": "yW0ms0nQHSGg",
        "outputId": "4694489f-b8ba-4372-f2da-f1f5ee441aa5"
      },
      "execution_count": null,
      "outputs": [
        {
          "output_type": "stream",
          "name": "stdout",
          "text": [
            "Исследование для k=1\n",
            "Число обусловленности: 373.9996850356385\n",
            "Ошибки:\n",
            "Метод Гаусса с выбором ведущего элемента: 4.534589286804254\n",
            "LU-разложение: 4.534589286804254\n",
            "Метод Якоби: 6.5064070986476965\n",
            "-----------------------------\n",
            "Исследование для k=2\n",
            "Число обусловленности: 4471.3465957473345\n",
            "Ошибки:\n",
            "Метод Гаусса с выбором ведущего элемента: 9.532271373122546\n",
            "LU-разложение: 9.532271373122546\n",
            "Метод Якоби: 9.89949493661127\n",
            "-----------------------------\n",
            "Исследование для k=3\n",
            "Число обусловленности: 30734.29269601741\n",
            "Ошибки:\n",
            "Метод Гаусса с выбором ведущего элемента: 7.180703308172536\n",
            "LU-разложение: 7.180703308172536\n",
            "Метод Якоби: 7.3484692283495345\n",
            "-----------------------------\n",
            "Исследование для k=4\n",
            "Число обусловленности: 276042.47686728684\n",
            "Ошибки:\n",
            "Метод Гаусса с выбором ведущего элемента: 2.9059326290269767\n",
            "LU-разложение: 2.9059326290269767\n",
            "Метод Якоби: 3.24037034920393\n",
            "-----------------------------\n",
            "Исследование для k=5\n",
            "Число обусловленности: 716160.1234526087\n",
            "Ошибки:\n",
            "Метод Гаусса с выбором ведущего элемента: 2.061552812826477\n",
            "LU-разложение: 2.061552812826477\n",
            "Метод Якоби: 4.743416490252569\n",
            "-----------------------------\n"
          ]
        }
      ]
    },
    {
      "cell_type": "markdown",
      "source": [
        "Из предоставленных данных видно, что с увеличением параметра k, который отвечает за диагональное преобладание матрицы, числа обусловленности матриц A^(k) также увеличиваются. Это означает, что матрицы становятся более плохо обусловленными, и решение системы линейных уравнений становится более чувствительным к погрешностям в данных или округлении.\n",
        "\n",
        "Как следствие, ошибка решения системы уравнений с помощью метода Гаусса и LU-разложения также увеличивается с увеличением числа обусловленности. Это отражено в значениях ошибок, которые растут с каждым шагом k.\n",
        "\n",
        "Однако метод Якоби демонстрирует более стабильную ошибку в решении, независимо от значения k. Это может быть связано с итерационным характером метода Якоби, который позволяет достигать определенной точности независимо от числа обусловленности.\n",
        "\n",
        "Таким образом, можно сделать вывод, что чем выше числа обусловленности матрицы, тем более неустойчивыми и неточными становятся решения системы линейных уравнений при использовании прямых методов, таких как метод Гаусса и LU-разложение. В то же время, метод Якоби остается относительно стабильным при различных значениях числа обусловленности."
      ],
      "metadata": {
        "id": "VRNdzoPkIfos"
      }
    },
    {
      "cell_type": "markdown",
      "source": [
        "###6. Провести аналогичные исследования на матрицах Гильберта, которые строятся согласно формуле"
      ],
      "metadata": {
        "id": "Wr0rYdL8Hfx5"
      }
    },
    {
      "cell_type": "code",
      "source": [
        "import numpy as np\n",
        "\n",
        "def create_hilbert_matrix(n):\n",
        "    A = np.zeros((n, n))\n",
        "    for i in range(n):\n",
        "        for j in range(n):\n",
        "            A[i, j] = 1 / (i + j + 1)\n",
        "    return A\n",
        "\n",
        "def create_vector(n):\n",
        "    return np.arange(1, n+1)\n",
        "\n",
        "def compute_condition_number(A):\n",
        "    return np.linalg.cond(A)\n",
        "\n",
        "def compute_solution_error(exact_solution, approximate_solution):\n",
        "    return np.linalg.norm(exact_solution - approximate_solution)\n",
        "\n",
        "# Параметры исследования\n",
        "n_values = [2, 3, 4, 5]\n",
        "\n",
        "# Исследование для каждого значения n\n",
        "for n in n_values:\n",
        "    print(f\"Исследование для n={n}\")\n",
        "    A = create_hilbert_matrix(n)\n",
        "    F = create_vector(n)\n",
        "\n",
        "    # Точное решение\n",
        "    exact_solution = np.linalg.solve(A, F)\n",
        "\n",
        "    # Решение с использованием метода Гаусса с выбором ведущего элемента\n",
        "    gaussian_solution = gaussian_elimination(A, F)\n",
        "\n",
        "    # Решение с использованием LU-разложения\n",
        "    try:\n",
        "        L, U = lu_decomposition(A)\n",
        "        y = np.linalg.solve(L, F)\n",
        "        lu_solution = np.linalg.solve(U, y)\n",
        "    except np.linalg.LinAlgError:\n",
        "        lu_solution = gaussian_solution\n",
        "\n",
        "    # Решение с использованием метода Якоби\n",
        "    x0 = np.zeros_like(F)\n",
        "    jacobi_solution, _, _ = jacobi_method(A, F, x0)\n",
        "\n",
        "    # Вычисление числа обусловленности\n",
        "    condition_number = compute_condition_number(A)\n",
        "\n",
        "    # Вычисление ошибок\n",
        "    gaussian_error = compute_solution_error(exact_solution, gaussian_solution)\n",
        "    lu_error = compute_solution_error(exact_solution, lu_solution)\n",
        "    jacobi_error = compute_solution_error(exact_solution, jacobi_solution)\n",
        "\n",
        "    print(\"Число обусловленности:\", condition_number)\n",
        "    print(\"Ошибки:\")\n",
        "    print(f\"Метод Гаусса с выбором ведущего элемента: {gaussian_error}\")\n",
        "    print(f\"LU-разложение: {lu_error}\")\n",
        "    print(f\"Метод Якоби: {jacobi_error}\")\n",
        "\n",
        "    print(\"-----------------------------\")\n"
      ],
      "metadata": {
        "colab": {
          "base_uri": "https://localhost:8080/"
        },
        "id": "GWax5km4H_Lf",
        "outputId": "8ba0af9f-80d2-4625-d40a-81108c52ad84"
      },
      "execution_count": null,
      "outputs": [
        {
          "output_type": "stream",
          "name": "stdout",
          "text": [
            "Исследование для n=2\n",
            "Число обусловленности: 15.016740988110644\n",
            "Ошибки:\n",
            "Метод Гаусса с выбором ведущего элемента: 6.708203932499369\n",
            "LU-разложение: 6.708203932499369\n",
            "Метод Якоби: 6.708203932499373\n",
            "-----------------------------\n",
            "Исследование для n=3\n",
            "Число обусловленности: 310.52999339176927\n",
            "Ошибки:\n",
            "Метод Гаусса с выбором ведущего элемента: 303.6445290137804\n",
            "LU-разложение: 303.6445290137804\n",
            "Метод Якоби: 302.8101715596762\n",
            "-----------------------------\n",
            "Исследование для n=4\n",
            "Число обусловленности: 6367.883356101975\n",
            "Ошибки:\n",
            "Метод Гаусса с выбором ведущего элемента: 2106.367726679501\n",
            "LU-разложение: 2106.367726679501\n",
            "Метод Якоби: 2103.5030306607737\n",
            "-----------------------------\n",
            "Исследование для n=5\n",
            "Число обусловленности: 283074.71255846124\n",
            "Ошибки:\n",
            "Метод Гаусса с выбором ведущего элемента: 36033.20457599344\n",
            "LU-разложение: 36033.20457599348\n",
            "Метод Якоби: 36031.143667879966\n",
            "-----------------------------\n"
          ]
        }
      ]
    },
    {
      "cell_type": "markdown",
      "source": [
        "Из представленных данных видно, что числа обусловленности матриц Гильберта быстро растут с увеличением размерности матрицы n. Это указывает на то, что матрицы Гильберта являются плохо обусловленными и приводят к большим ошибкам при решении систем линейных уравнений.\n",
        "\n",
        "Метод Гаусса и LU-разложение показывают сходные значения ошибок, которые также возрастают с увеличением размерности матрицы. Это говорит о том, что оба метода чувствительны к высокому числу обусловленности и дают сопоставимую точность решения системы уравнений.\n",
        "\n",
        "Метод Якоби также демонстрирует увеличение ошибки с увеличением размерности матрицы, но ошибка остается сопоставимой с ошибками методов Гаусса и LU-разложения. Это может быть связано с тем, что метод Якоби имеет итерационный характер и может достичь определенной точности, несмотря на высокое число обусловленности матрицы.\n",
        "\n",
        "Таким образом, матрицы Гильберта являются плохо обусловленными, что ведет к большим ошибкам при решении систем линейных уравнений. Метод Якоби остается относительно стабильным при различных размерностях матрицы, но также не избавлен от ошибок."
      ],
      "metadata": {
        "id": "4HPM7kn0JEFw"
      }
    },
    {
      "cell_type": "markdown",
      "source": [
        "###7. Сравнить между собой прямые и итерационные методы по эффективности методов в зависимости от размеров n матрицы:"
      ],
      "metadata": {
        "id": "bgEK-Q2rI_uN"
      }
    },
    {
      "cell_type": "code",
      "source": [
        "import time\n",
        "import numpy as np\n",
        "\n",
        "def create_matrix(n):\n",
        "    return np.random.rand(n, n)\n",
        "\n",
        "def create_vector(n):\n",
        "    return np.random.rand(n)\n",
        "\n",
        "def measure_execution_time(method, *args):\n",
        "    start_time = time.time()\n",
        "    method(*args)\n",
        "    end_time = time.time()\n",
        "    execution_time = end_time - start_time\n",
        "    return execution_time\n",
        "\n",
        "# Размеры матрицы\n",
        "n_values = [10, 50, 10**2]\n",
        "\n",
        "# Максимальное количество итераций для итерационного метода\n",
        "max_iterations = 1000\n",
        "\n",
        "# Измерение времени выполнения для каждого значения n\n",
        "for n in n_values:\n",
        "    print(f\"Измерение для n={n}\")\n",
        "\n",
        "    A = create_matrix(n)\n",
        "    b = create_vector(n)\n",
        "    x0 = np.zeros_like(b)\n",
        "\n",
        "    # Измерение времени выполнения метода Гаусса с выбором ведущего элемента\n",
        "    gaussian_time = measure_execution_time(gaussian_elimination, A, b)\n",
        "\n",
        "    # Измерение времени выполнения LU-разложения\n",
        "    lu_time = measure_execution_time(lu_decomposition, A)\n",
        "\n",
        "    # Измерение времени выполнения метода Якоби\n",
        "    jacobi_time = measure_execution_time(jacobi_method, A, b, x0, max_iterations)\n",
        "\n",
        "    print(\"Время выполнения:\")\n",
        "    print(f\"Метод Гаусса с выбором ведущего элемента: {gaussian_time} сек\")\n",
        "    print(f\"LU-разложение: {lu_time} сек\")\n",
        "    print(f\"Метод Якоби: {jacobi_time} сек\")\n",
        "\n",
        "    print(\"-----------------------------\")\n"
      ],
      "metadata": {
        "colab": {
          "base_uri": "https://localhost:8080/"
        },
        "id": "kxm39tpuKgcu",
        "outputId": "de457417-1ea1-43d5-94cc-dd364b35da65"
      },
      "execution_count": null,
      "outputs": [
        {
          "output_type": "stream",
          "name": "stdout",
          "text": [
            "Измерение для n=10\n",
            "Время выполнения:\n",
            "Метод Гаусса с выбором ведущего элемента: 0.0007269382476806641 сек\n",
            "LU-разложение: 0.0002968311309814453 сек\n",
            "Метод Якоби: 0.0011372566223144531 сек\n",
            "-----------------------------\n",
            "Измерение для n=50\n",
            "Время выполнения:\n",
            "Метод Гаусса с выбором ведущего элемента: 0.006933927536010742 сек\n",
            "LU-разложение: 0.0006587505340576172 сек\n",
            "Метод Якоби: 0.028672456741333008 сек\n",
            "-----------------------------\n",
            "Измерение для n=100\n",
            "Время выполнения:\n",
            "Метод Гаусса с выбором ведущего элемента: 0.0263674259185791 сек\n",
            "LU-разложение: 0.0031461715698242188 сек\n",
            "Метод Якоби: 0.5692586898803711 сек\n",
            "-----------------------------\n"
          ]
        }
      ]
    },
    {
      "cell_type": "markdown",
      "source": [
        "Из полученных результатов видно, что время выполнения прямых методов (Гаусса, LU-разложения) растет значительно медленее, чем время выполнения итерационного метода (Якоби), с увеличением размерности матрицы."
      ],
      "metadata": {
        "id": "WtNQom6LJafy"
      }
    }
  ]
}