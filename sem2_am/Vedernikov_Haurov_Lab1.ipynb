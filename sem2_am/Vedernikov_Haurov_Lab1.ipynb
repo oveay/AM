{
 "cells": [
  {
   "cell_type": "markdown",
   "metadata": {},
   "source": [
    "# Лабораторная работа №1. Курс: прикладная математика. Авторы: Ярослав Ведерников и Никита Хауров. Группа: М33011."
   ]
  },
  {
   "cell_type": "markdown",
   "metadata": {},
   "source": [
    "## Минимизация линейной формы с помощью Симплекс-метода"
   ]
  },
  {
   "cell_type": "markdown",
   "metadata": {},
   "source": [
    "## Задачи\n",
    "\n",
    "- Реализуйте возможность ввода данных из файла в формате JSON. Рекомендуемая структура JSON указана ниже\n",
    "- При необходимости добавьте балансирующие переменные для перехода от общей постановки к канонической форме задачи линейного программирования\n",
    "- Реализуйте симплекс-метод для решения задачи\n",
    "- Предусмотрите, что задача как может не иметь решений вообще, так и иметь\n",
    "бесконечное количество решений"
   ]
  },
  {
   "cell_type": "code",
   "execution_count": 32,
   "metadata": {},
   "outputs": [],
   "source": [
    "import json\n",
    "import copy"
   ]
  },
  {
   "cell_type": "markdown",
   "metadata": {},
   "source": [
    "### Вспомогательный класс, выполняющий задачу парсинга JSON"
   ]
  },
  {
   "cell_type": "code",
   "execution_count": 33,
   "metadata": {},
   "outputs": [],
   "source": [
    "class JsonTask:\n",
    "    def __init__(self, json_file):\n",
    "        json_content = json.loads(json_file)\n",
    "        self.function = json_content[\"f\"]\n",
    "        self.goal = json_content[\"goal\"]\n",
    "        self.constraints = [phrase for phrase in json_content[\"constraints\"]]"
   ]
  },
  {
   "cell_type": "markdown",
   "metadata": {},
   "source": [
    "### Решение с помощью симплекс метода представлено в классе"
   ]
  },
  {
   "cell_type": "code",
   "execution_count": 34,
   "metadata": {},
   "outputs": [],
   "source": [
    "class Simplex:\n",
    "    def __init__(self, task: JsonTask):\n",
    "        if task.goal == 'min': self.function = task.function\n",
    "        else: self.function = [-num for num in task.function]\n",
    "        self.goal = task.goal\n",
    "\n",
    "        self.matrix = []  # матрица симплекс метода\n",
    "        for limit in task.constraints:\n",
    "            if limit[\"type\"] == 'eq':  # уравнение переводится в систему из двух нестрогих неравенств\n",
    "                self.matrix.append(copy.deepcopy(limit[\"coefs\"]) + [limit[\"b\"]])\n",
    "                self.matrix.append([-c for c in copy.deepcopy(limit[\"coefs\"])] + [-limit[\"b\"]])\n",
    "            elif limit[\"type\"] == 'lte': self.matrix.append(limit[\"coefs\"] + [limit[\"b\"]])\n",
    "            elif limit[\"type\"] == 'gte': self.matrix.append([-num for num in limit[\"coefs\"]] + [-limit[\"b\"]])\n",
    "            else: print('Ошибка: неизвестный знак в неравенстве.')\n",
    "        self.matrix.append([-num for num in self.function] + [0])  # добавляется последняя строка с целевой функцией\n",
    "        self.variables_in_function = list(range(1, len(self.function) + 1))  # индексы переменных, входящих в функцию\n",
    "        self.variables_in_basis = list(range(len(self.function) + 1, len(self.function) + len(self.matrix)))  # индексы переменных, входящих в базис\n",
    "\n",
    "\n",
    "    def jordan_steps(self, crucial_row, crucial_column):\n",
    "        matrix_before = copy.deepcopy(self.matrix)  # сохраняем матрицу до шага Жордана\n",
    "        crucial_element = matrix_before[crucial_row][crucial_column]\n",
    "        self.jordan_step_1(crucial_row, crucial_column)\n",
    "        self.jordan_step_2(crucial_element, crucial_row, crucial_column, matrix_before)\n",
    "        self.jordan_step_3(crucial_element, crucial_row, crucial_column, matrix_before)\n",
    "        self.jordan_step_4(crucial_element, crucial_row, crucial_column, matrix_before)\n",
    "        # чтобы иметь возможность полностью восстановить всё решение, отслеживаются индексы переменных в базисе и в функции\n",
    "        excluded_var_from_basis = self.variables_in_basis.pop(crucial_row)\n",
    "        excluded_var_from_func = self.variables_in_function.pop(crucial_column)\n",
    "        self.variables_in_basis.insert(crucial_row, excluded_var_from_func)\n",
    "        self.variables_in_function.insert(crucial_column, excluded_var_from_basis)\n",
    "\n",
    "\n",
    "    def jordan_step_1(self, crucial_row, crucial_column):  # считается разрешающий элемент\n",
    "        self.matrix[crucial_row][crucial_column] = 1 / self.matrix[crucial_row][crucial_column]\n",
    "\n",
    "\n",
    "    def jordan_step_2(self, crucial_element, crucial_row, crucial_column, matrix_before):  # считаются элементы разрешающего столбца\n",
    "        for row in (r for r in range(len(self.matrix)) if r != crucial_row):\n",
    "            self.matrix[row][crucial_column] = -matrix_before[row][crucial_column] / crucial_element\n",
    "\n",
    "\n",
    "    def jordan_step_3(self, crucial_element, crucial_row, crucial_column, matrix_before):  # считаются элементы разрешающей строки\n",
    "        for col in (c for c in range(len(self.matrix[crucial_row])) if c != crucial_column):\n",
    "            self.matrix[crucial_row][col] = matrix_before[crucial_row][col] / crucial_element\n",
    "\n",
    "\n",
    "    def jordan_step_4(self, crucial_element, crucial_row, crucial_column, matrix_before):  # считаются все остальные элементы\n",
    "        for row in (r for r in range(len(self.matrix)) if r != crucial_row):\n",
    "            for col in (c for c in range(len(self.matrix[row])) if c != crucial_column):\n",
    "                self.matrix[row][col] = matrix_before[row][col] - (matrix_before[crucial_row][col] * matrix_before[row][crucial_column] / crucial_element)\n",
    "\n",
    "\n",
    "    def solve_task(self):\n",
    "        self.base_plan()  # поиск опорного плана\n",
    "        self.best_plan()  # поиск оптимального плана\n",
    "        return self.get_correct_answer()\n",
    "    \n",
    "\n",
    "    def get_correct_answer(self):\n",
    "        if (self.goal == \"min\"):\n",
    "            return (self.matrix[-1][-1], self.variables_in_function, self.variables_in_basis, [-i for i in self.matrix[-1][:-1]], [row[-1] for row in self.matrix[:-1]])\n",
    "        return (-self.matrix[-1][-1], self.variables_in_function, self.variables_in_basis, self.matrix[-1][:-1], [row[-1] for row in self.matrix[:-1]])\n",
    "\n",
    "\n",
    "    def base_plan(self):\n",
    "        negative_b = self.find_negative_b()\n",
    "        while negative_b is not None:  # пока есть отрицательные коэффициенты в столбце свободных членов, делаем Жорданов шаг\n",
    "            crucial_row, crucial_column = self.find_crucial_indices(negative_b)\n",
    "            self.jordan_steps(crucial_row, crucial_column)\n",
    "            negative_b = self.find_negative_b()\n",
    "\n",
    "\n",
    "    def find_negative_b(self):\n",
    "        for row in range(len(self.matrix) - 1):\n",
    "            if self.matrix[row][-1] < 0: return row\n",
    "        return None\n",
    "\n",
    "\n",
    "    def find_crucial_indices(self, index_of_negative):  # ищутся индексы разрешающего элемента\n",
    "        crucial_column = self.find_crucial_col(index_of_negative)\n",
    "        if crucial_column is None: raise Exception('Ошибка: система ограничений несовместна.')\n",
    "        return (self.find_crucial_row(crucial_column), crucial_column)\n",
    "\n",
    "\n",
    "    def find_crucial_col(self, index_of_negative):\n",
    "        for col in range(len(self.matrix[index_of_negative]) - 1):\n",
    "            if self.matrix[index_of_negative][col] < 0: return col\n",
    "        return None\n",
    "\n",
    "\n",
    "    def find_crucial_row(self, crucial_column):\n",
    "        min_value = float('inf')\n",
    "        for row in range(len(self.matrix) - 1):\n",
    "            try: val = self.matrix[row][-1] / self.matrix[row][crucial_column]\n",
    "            except ZeroDivisionError: continue\n",
    "\n",
    "            if val > 0 and val < min_value:\n",
    "                min_value = val\n",
    "                crucial_row = row\n",
    "        return crucial_row\n",
    "\n",
    "\n",
    "    def best_plan(self):\n",
    "        crucial_column = self.find_best_plan_crucial_column()\n",
    "        while crucial_column is not None:  # пока есть неотрицательные коэффициенты в строке целевой функции, делаем Жорданов шаг\n",
    "            crucial_row = self.find_best_plan_crucial_row(crucial_column)\n",
    "            if (crucial_row is None): raise Exception('Ошибка: функция не ограничена.')\n",
    "            self.jordan_steps(crucial_row, crucial_column)\n",
    "            crucial_column = self.find_best_plan_crucial_column()\n",
    "\n",
    "\n",
    "    def find_best_plan_crucial_column(self):\n",
    "        for col in range(len(self.matrix[-1]) - 1):\n",
    "            if self.matrix[-1][col] > 0: return col\n",
    "        return None\n",
    "\n",
    "\n",
    "    def find_best_plan_crucial_row(self, crucial_column):\n",
    "        min_value = float('inf')\n",
    "        for row in range(len(self.matrix) - 1):\n",
    "            try: val = self.matrix[row][-1] / self.matrix[row][crucial_column]\n",
    "            except ZeroDivisionError: continue\n",
    "\n",
    "            if self.matrix[row][crucial_column] > 0 and val < min_value:\n",
    "                min_value = val\n",
    "                crucial_row = row\n",
    "        if min_value != float('inf'): return crucial_row\n",
    "        return None\n"
   ]
  },
  {
   "cell_type": "markdown",
   "metadata": {},
   "source": [
    "### Задача из файла с лабой"
   ]
  },
  {
   "cell_type": "code",
   "execution_count": 35,
   "metadata": {},
   "outputs": [
    {
     "name": "stdout",
     "output_type": "stream",
     "text": [
      "Ответ: -2.2\n",
      "Индексы переменных базиса: [1, 7, 5, 9, 4, 11]\n",
      "Индексы переменных функции: [6, 8, 10, 3, 2]\n",
      "Коэффициенты в целевой функции: [-0.0, 0.8, 0.2, 0.2, 0.8]\n",
      "Столбец свободных членов [5.6, 0.0, 2.4, 0.0, 0.2, 0.0]\n"
     ]
    }
   ],
   "source": [
    "json_file_1 = '{\"f\": [0, 0, 0, 1, -1],\"goal\": \"min\",\"constraints\": [{\"coefs\": [1, 0, 0, 1, -2], \"type\": \"eq\", \"b\": 1},{\"coefs\": [0, 1, 0, -2, 1], \"type\": \"eq\", \"b\": 2},{\"coefs\": [0, 0, 1, 3, 1], \"type\": \"eq\", \"b\": 3}]}'\n",
    "answer, function_vars, variables_in_basis, function_coefs, b_column = Simplex(JsonTask(json_file_1)).solve_task()\n",
    "print(f\"Ответ: {answer}\\nИндексы переменных базиса: {variables_in_basis}\\nИндексы переменных функции: {function_vars}\"\n",
    "      f\"\\nКоэффициенты в целевой функции: {function_coefs}\\nСтолбец свободных членов {b_column}\")"
   ]
  },
  {
   "cell_type": "markdown",
   "metadata": {},
   "source": [
    "### Задача 1 из файла с тестами"
   ]
  },
  {
   "cell_type": "code",
   "execution_count": 36,
   "metadata": {},
   "outputs": [
    {
     "name": "stdout",
     "output_type": "stream",
     "text": [
      "Ответ: -4.0\n",
      "Индексы переменных базиса: [2, 5, 3, 8]\n",
      "Индексы переменных функции: [7, 6, 1, 4]\n",
      "Коэффициенты в целевой функции: [2.5, 1.5, 2.0, 1.0]\n",
      "Столбец свободных членов [3.9999999999999996, 2.220446049250313e-16, 0.0, 0.0]\n"
     ]
    }
   ],
   "source": [
    "test_2 = '{\"f\": [-6, -1, -4, 5],\"goal\": \"min\",\"constraints\": [{\"coefs\": [3, 1, -1, 1], \"type\": \"eq\", \"b\": 4},{\"coefs\": [5, 1, 1, -1], \"type\": \"eq\", \"b\": 4}]}'\n",
    "answer, function_vars, variables_in_basis, function_coefs, b_column = Simplex(JsonTask(test_2)).solve_task()\n",
    "print(f\"Ответ: {answer}\\nИндексы переменных базиса: {variables_in_basis}\\nИндексы переменных функции: {function_vars}\"\n",
    "      f\"\\nКоэффициенты в целевой функции: {function_coefs}\\nСтолбец свободных членов {b_column}\")"
   ]
  },
  {
   "cell_type": "markdown",
   "metadata": {},
   "source": [
    "### Задача 2 из файла с тестами"
   ]
  },
  {
   "cell_type": "code",
   "execution_count": 37,
   "metadata": {},
   "outputs": [
    {
     "name": "stdout",
     "output_type": "stream",
     "text": [
      "Ответ: -5.999999999999999\n",
      "Индексы переменных базиса: [2, 5, 1, 8]\n",
      "Индексы переменных функции: [7, 6, 3, 4]\n",
      "Коэффициенты в целевой функции: [2.4999999999999996, 1.4999999999999998, 0.9999999999999991, 3.999999999999999]\n",
      "Столбец свободных членов [1.9999999999999998, 0.0, 1.9999999999999998, 0.0]\n"
     ]
    }
   ],
   "source": [
    "test_2 = '{\"f\": [-1, -2, -3, 1],\"goal\": \"min\",\"constraints\": [{\"coefs\": [1, -3, -1, -2], \"type\": \"eq\", \"b\": -4},{\"coefs\": [1, -1, 1, 0], \"type\": \"eq\", \"b\": 0}]}'\n",
    "answer, function_vars, variables_in_basis, function_coefs, b_column = Simplex(JsonTask(test_2)).solve_task()\n",
    "print(f\"Ответ: {answer}\\nИндексы переменных базиса: {variables_in_basis}\\nИндексы переменных функции: {function_vars}\"\n",
    "      f\"\\nКоэффициенты в целевой функции: {function_coefs}\\nСтолбец свободных членов {b_column}\")"
   ]
  },
  {
   "cell_type": "markdown",
   "metadata": {},
   "source": [
    "### Задача 3 из файла с тестами"
   ]
  },
  {
   "cell_type": "code",
   "execution_count": 38,
   "metadata": {},
   "outputs": [
    {
     "name": "stdout",
     "output_type": "stream",
     "text": [
      "Ответ: -14.0\n",
      "Индексы переменных базиса: [10, 2, 3, 9, 7]\n",
      "Индексы переменных функции: [1, 6, 8, 4, 5]\n",
      "Коэффициенты в целевой функции: [1.0, 1.0, 1.0, 8.0, 2.0]\n",
      "Столбец свободных членов [3.0, 5.0, 4.0, 0.0, 0.0]\n"
     ]
    }
   ],
   "source": [
    "test_3 = '{\"f\": [-1, -2, -1, 3, -1],\"goal\": \"min\",\"constraints\": [{\"coefs\": [1, 1, 0, 2, 1], \"type\": \"eq\", \"b\": 5},{\"coefs\": [1, 1, 1, 3, 2], \"type\": \"eq\", \"b\": 9}, {\"coefs\": [0, 1, 1, 2, 1], \"type\": \"gte\", \"b\": 6}]}'\n",
    "answer, function_vars, variables_in_basis, function_coefs, b_column = Simplex(JsonTask(test_3)).solve_task()\n",
    "print(f\"Ответ: {answer}\\nИндексы переменных базиса: {variables_in_basis}\\nИндексы переменных функции: {function_vars}\"\n",
    "      f\"\\nКоэффициенты в целевой функции: {function_coefs}\\nСтолбец свободных членов {b_column}\")"
   ]
  },
  {
   "cell_type": "markdown",
   "metadata": {},
   "source": [
    "## Вывод"
   ]
  },
  {
   "cell_type": "markdown",
   "metadata": {},
   "source": [
    "Написанный симплекс-метод успешно решает задачи максимизации и минимизации линейных форм."
   ]
  }
 ],
 "metadata": {
  "kernelspec": {
   "display_name": "Python 3",
   "language": "python",
   "name": "python3"
  },
  "language_info": {
   "codemirror_mode": {
    "name": "ipython",
    "version": 3
   },
   "file_extension": ".py",
   "mimetype": "text/x-python",
   "name": "python",
   "nbconvert_exporter": "python",
   "pygments_lexer": "ipython3",
   "version": "3.11.5"
  }
 },
 "nbformat": 4,
 "nbformat_minor": 2
}
